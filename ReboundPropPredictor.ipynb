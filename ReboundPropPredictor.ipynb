{
  "nbformat": 4,
  "nbformat_minor": 0,
  "metadata": {
    "colab": {
      "provenance": [],
      "authorship_tag": "ABX9TyORt1CfvbRE0HPK5v3uylzb",
      "include_colab_link": true
    },
    "kernelspec": {
      "name": "python3",
      "display_name": "Python 3"
    },
    "language_info": {
      "name": "python"
    }
  },
  "cells": [
    {
      "cell_type": "markdown",
      "metadata": {
        "id": "view-in-github",
        "colab_type": "text"
      },
      "source": [
        "<a href=\"https://colab.research.google.com/github/BlackPhosphorus/ReboundProp-Predictor/blob/main/ReboundPropPredictor.ipynb\" target=\"_parent\"><img src=\"https://colab.research.google.com/assets/colab-badge.svg\" alt=\"Open In Colab\"/></a>"
      ]
    },
    {
      "cell_type": "code",
      "execution_count": null,
      "metadata": {
        "id": "oMT5JqIIl7re"
      },
      "outputs": [],
      "source": [
        "import pandas as pd\n",
        "import numpy as np\n",
        "from sklearn.model_selection import train_test_split\n",
        "from sklearn.preprocessing import StandardScaler, OneHotEncoder\n",
        "from sklearn.compose import ColumnTransformer\n",
        "from sklearn.pipeline import Pipeline\n",
        "from xgboost import XGBRegressor\n",
        "from sklearn.metrics import mean_absolute_error, mean_squared_error\n",
        "\n",
        "data = pd.read_csv('basketball_player_data.csv')\n",
        "data = data.dropna()\n",
        "data['game_date'] = pd.to_datetime(data['game_date'])\n",
        "data['day_of_week'] = data['game_date'].dt.dayofweek\n",
        "data = data.drop(columns=['game_date'])\n",
        "\n",
        "features = data.drop(columns=['rebounds'])\n",
        "target = data['rebounds']\n",
        "## MUST PREPROCESS FIRST\n",
        "preprocessor = ColumnTransformer(\n",
        "    transformers=[\n",
        "        ('num', StandardScaler(), features.select_dtypes(include=['int64', 'float64']).columns),\n",
        "        ('cat', OneHotEncoder(drop='first'), features.select_dtypes(include=['object']).columns)\n",
        "    ]\n",
        ")"
      ]
    },
    {
      "cell_type": "code",
      "source": [],
      "metadata": {
        "id": "ubXhJ90rl-ud"
      },
      "execution_count": null,
      "outputs": []
    },
    {
      "cell_type": "code",
      "source": [],
      "metadata": {
        "id": "rhpxWNYdmG5m"
      },
      "execution_count": null,
      "outputs": []
    }
  ]
}